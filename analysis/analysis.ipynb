{
 "cells": [
  {
   "cell_type": "code",
   "execution_count": null,
   "metadata": {},
   "outputs": [
    {
     "name": "stdout",
     "output_type": "stream",
     "text": [
      "Index(['AGENCY', 'DESCRIPTION', 'UPLOADED ON', 'LINK', 'VALUE',\n",
      "       'Organization Type', 'Reason For Modification', 'Legal Business Name',\n",
      "       'cage Code', 'Principal NAICS Code', 'Doing Business As Name',\n",
      "       'Unique Entity Identifier', 'NAICS Code Description'],\n",
      "      dtype='object')\n",
      "AGENCY\n",
      "USAID                                                                    1458\n",
      "Department of Health and Human Services                                   417\n",
      "Consumer Financial Protection Bureau                                      388\n",
      "Department of the Interior                                                237\n",
      "Department of Agriculture                                                 224\n",
      "Department of Treasury                                                    148\n",
      "Department of Education                                                   120\n",
      "Department of Transportation                                              113\n",
      "Housing and Urban Development                                             107\n",
      "Department of Labor                                                        90\n",
      "Department of Commerce                                                     89\n",
      "Department of Homeland Security                                            83\n",
      "General Services Administration                                            81\n",
      "Department of Justice                                                      73\n",
      "Department of Veterans Affairs                                             50\n",
      "Environmental Protection Agency                                            45\n",
      "Department of Energy                                                       43\n",
      "Department of State                                                        42\n",
      "Social Security Administration                                             40\n",
      "Securities and Exchange Commission                                         32\n",
      "National Science Foundation                                                31\n",
      "Small Business Administration                                              27\n",
      "Department of Defense                                                      17\n",
      "International Assistance Programs                                          17\n",
      "Executive Office of the President                                          16\n",
      "International Trade Commission                                             15\n",
      "National Aeronautics and Space Administration                              15\n",
      "Nuclear Regulatory Commission                                               9\n",
      "Office of Personnel Management                                              8\n",
      "Commodity Futures Trading Commission                                        7\n",
      "Federal Communications Commission                                           6\n",
      "Federal Mediation and Conciliation Service                                  5\n",
      "Export-Import Bank of the US                                                4\n",
      "Consumer Product Safety Commission                                          3\n",
      "MILLENNIUM CHALLENGE CORPORATION                                            3\n",
      "Institute of Museum And Library Services                                    3\n",
      "Surface Transportation Board                                                2\n",
      "Federal Trade Commission                                                    2\n",
      "National Archives and Records Administration                                2\n",
      "Council of the Inspectors General on Integrity and Efficiency               1\n",
      "Bureau of Land Management                                                   1\n",
      "CORPORATION FOR NATIONAL AND COMMUNITY SERVICE                              1\n",
      "Committee for Purchase From People Who Are Blind or Severely Disabled       1\n",
      "Government Accountability Office                                            1\n",
      "National Transportation Safety Board                                        1\n",
      "Marine Mammal Commission                                                    1\n",
      "NATIONAL FOUNDATION ON THE ARTS AND THE HUMANITIES                          1\n",
      "National Labor Relations Board                                              1\n",
      "National Gallery of Art                                                     1\n",
      "Railroad Retirement Board                                                   1\n",
      "Name: count, dtype: int64\n",
      "DESCRIPTION\n",
      " Basic Ordering Agreements for field investigators for background investigations for employment.                                                                                                                                                           46\n",
      "DEIA Training                                                                                                                                                                                                                                              32\n",
      "CFPB EXPERT                                                                                                                                                                                                                                                20\n",
      "Subscription services                                                                                                                                                                                                                                      18\n",
      "EXPERT WITNESS SERVICES                                                                                                                                                                                                                                    15\n",
      "                                                                                                                                                                                                                                                           ..\n",
      "ADMINISTRATIVE AND PROFESSIONAL SUPPORT                                                                                                                                                                                                                     1\n",
      "THE CONTRACTORS SHALL PROVIDE SUPPORT UNDER THE CUSTOMER SERVICE DISCIPLINE THAT INCLUDES, BUT NOT LIMITED TO: RESPOND TO CUSTOMER INQUIRES, I.E. STATUS OF PROCUREMENTS/REQUISITIONS/PROCUREMENT RISKASSESSMENTS (PRAS) RESPOND TO VENDOR INQUIRES, I.     1\n",
      "MANAGED WEB HOSTING.                                                                                                                                                                                                                                        1\n",
      "CYD SUPPORT SERVICES IAW THE TERMS AND CONDITIONS OF THE CONTRACT                                                                                                                                                                                           1\n",
      "DOJ TELEWORK PROGRAM EVALUATION SERVICES                                                                                                                                                                                                                    1\n",
      "Name: count, Length: 3783, dtype: int64\n"
     ]
    }
   ],
   "source": [
    "import pandas as pd\n",
    "\n",
    "\n",
    "df = pd.read_csv('contracts_with_extracted_fields.csv')\n",
    "print(df.columns)\n",
    "\n",
    "# print agency and agency records count\n",
    "df_agency = df['AGENCY'].value_counts()\n",
    "print(df_agency)\n",
    "\n"
   ]
  },
  {
   "cell_type": "code",
   "execution_count": 8,
   "metadata": {},
   "outputs": [
    {
     "name": "stdout",
     "output_type": "stream",
     "text": [
      "Organization Type\n",
      "CORPORATE NOT TAX EXEMPT    2199\n",
      "PARTNERSHIP                  602\n",
      "OTHER                        591\n",
      "CORPORATE TAX EXEMPT         326\n",
      "SOLE PROPRIETORSHIP          231\n",
      "INTERNATIONAL ORG             35\n",
      "US GOVERNMENT ENTITY          23\n",
      "FOREIGN GOVERNMENT             1\n",
      "Name: count, dtype: int64\n"
     ]
    }
   ],
   "source": [
    "df_type = df['Organization Type'].value_counts()\n",
    "print(df_type)"
   ]
  },
  {
   "cell_type": "code",
   "execution_count": 15,
   "metadata": {},
   "outputs": [
    {
     "name": "stdout",
     "output_type": "stream",
     "text": [
      "     AGENCY                                        DESCRIPTION UPLOADED ON  \\\n",
      "4053  USAID   National Telecom Public Land Line Phone - Com...    3/1/2025   \n",
      "\n",
      "                                                   LINK  VALUE  \\\n",
      "4053  https://www.fpds.gov/ezsearch/jsp/viewLinkCont...  10600   \n",
      "\n",
      "       Organization Type Reason For Modification  \\\n",
      "4053  FOREIGN GOVERNMENT                     NaN   \n",
      "\n",
      "                          Legal Business Name cage Code  Principal NAICS Code  \\\n",
      "4053  NATIONAL TELECOM PUBLIC COMPANY LIMITED     SKDA9              517810.0   \n",
      "\n",
      "     Doing Business As Name Unique Entity Identifier  \\\n",
      "4053                    NaN             CM7LGKRJFBJ3   \n",
      "\n",
      "            NAICS Code Description  \n",
      "4053  ALL OTHER TELECOMMUNICATIONS  \n"
     ]
    }
   ],
   "source": [
    "# get the record where df['Organization Type'] =  FOREIGN GOVERNMENT\n",
    "df_foreign_gov = df[df['Organization Type'] == 'FOREIGN GOVERNMENT']\n",
    "# dont truncate the columns\n",
    "print(df_foreign_gov)"
   ]
  },
  {
   "cell_type": "code",
   "execution_count": null,
   "metadata": {},
   "outputs": [],
   "source": []
  },
  {
   "cell_type": "code",
   "execution_count": 6,
   "metadata": {},
   "outputs": [
    {
     "name": "stdout",
     "output_type": "stream",
     "text": [
      "DESCRIPTION\n",
      " Basic Ordering Agreements for field investigators for background investigations for employment.                                                                                                                                                           46\n",
      "DEIA Training                                                                                                                                                                                                                                              32\n",
      "CFPB EXPERT                                                                                                                                                                                                                                                20\n",
      "Subscription services                                                                                                                                                                                                                                      18\n",
      "EXPERT WITNESS SERVICES                                                                                                                                                                                                                                    15\n",
      "                                                                                                                                                                                                                                                           ..\n",
      "ADMINISTRATIVE AND PROFESSIONAL SUPPORT                                                                                                                                                                                                                     1\n",
      "THE CONTRACTORS SHALL PROVIDE SUPPORT UNDER THE CUSTOMER SERVICE DISCIPLINE THAT INCLUDES, BUT NOT LIMITED TO: RESPOND TO CUSTOMER INQUIRES, I.E. STATUS OF PROCUREMENTS/REQUISITIONS/PROCUREMENT RISKASSESSMENTS (PRAS) RESPOND TO VENDOR INQUIRES, I.     1\n",
      "MANAGED WEB HOSTING.                                                                                                                                                                                                                                        1\n",
      "CYD SUPPORT SERVICES IAW THE TERMS AND CONDITIONS OF THE CONTRACT                                                                                                                                                                                           1\n",
      "DOJ TELEWORK PROGRAM EVALUATION SERVICES                                                                                                                                                                                                                    1\n",
      "Name: count, Length: 3783, dtype: int64\n"
     ]
    }
   ],
   "source": [
    "\n",
    "df_description = df['DESCRIPTION'].value_counts()\n",
    "print(df_description)"
   ]
  },
  {
   "cell_type": "code",
   "execution_count": null,
   "metadata": {},
   "outputs": [
    {
     "name": "stdout",
     "output_type": "stream",
     "text": [
      "DESCRIPTION\n",
      "THE PURPOSE OF THIS TASK ORDER, PEACE THROUGH EVALUATION, LEARNING, AND ADAPTATION II ACTIVITY (PELA II), IS TO ACQUIRE TECHNICAL SERVICES UNDER THE PPL MONITORING AND EVALUATION INDEFINITE DELIVERY INDEFINITE QUANTITY (EVAL-ME II IDIQ) CONTRACT TO S                                                                                                                                                                                                                                                                                                                                                                                                                                                                                                                                                                                                                                                                                                                                                                                                                                                                             1\n",
      "TASK ORDER (RFTOP) FOR CONTRACTOR SUPPORT, UNDER CPS/CVP'S P4P2 IDIQ CONTRACT, TO PROVIDE TIMELY RECRUITING AND DEPLOYMENT OF TECHNICAL EXPERTS IN CONFLICT MITIGATION, VIOLENCE PREVENTION, PEACEBUILDING, STABILIZATION, AND RELATED FIELDS TO SUPP\\t                                                                                                                                                                                                                                                                                                                                                                                                                                                                                                                                                                                                                                                                                                                                                                                                                                                                                1\n",
      "USAID Network Assessment                                                                                                                                                                                                                                                                                                                                                                                                                                                                                                                                                                                                                                                                                                                                                                                                                                                                                                                                                                                                                                                                                                               1\n",
      "THE INITIAL SUB OBLIGATION OF $6,000,000.37 WILL COVER UP TO 24 MONTHS FOR CLIN 1 ($16,000,000) OF FUNDING WHICH IS IN COMPLIANCE WITH FORWARD FUNDING POLICY. THE MONITORING, EVALUATION AND LEARNING (MEL) MECHANISM IS A 5-YEAR INSTRUMENT TO BE MANAG                                                                                                                                                                                                                                                                                                                                                                                                                                                                                                                                                                                                                                                                                                                                                                                                                                                                              1\n",
      "The Senior E&L Program Specialist will leverage their considerable expertise in the DRG field to advise and support the development of appropriate and practical approaches to apply DRG evidence and learning. Working closely with evaluation and learning experts on the E&L team, they will provide technical direction on a range of DRG learning initiatives (reviews, evaluations, surveys, etc.) with a special focus and expertise on overseeing data collection and analysis.  This includes providing direction on effective approaches to data collection for cutting-edge impact and performance evaluations, ensuring the resolution of challenges that may arise, and leading the process of analyzing research and evaluation findings in a way that draws out key findings and program recommendations for the benefit of practitioners. The incumbent will work with the Bureau’s Knowledge Management and Organizational Learning specialist, the Senior Evidence Utilization Advisor, and other evaluation and learning specialists coordinator and team to advance knowledge management in USAID’s DRG sector.    1\n",
      "                                                                                                                                                                                                                                                                                                                                                                                                                                                                                                                                                                                                                                                                                                                                                                                                                                                                                                                                                                                                                                                                                                                                      ..\n",
      "ADMINISTRATIVE AND PROFESSIONAL SUPPORT                                                                                                                                                                                                                                                                                                                                                                                                                                                                                                                                                                                                                                                                                                                                                                                                                                                                                                                                                                                                                                                                                                1\n",
      "THE CONTRACTORS SHALL PROVIDE SUPPORT UNDER THE CUSTOMER SERVICE DISCIPLINE THAT INCLUDES, BUT NOT LIMITED TO: RESPOND TO CUSTOMER INQUIRES, I.E. STATUS OF PROCUREMENTS/REQUISITIONS/PROCUREMENT RISKASSESSMENTS (PRAS) RESPOND TO VENDOR INQUIRES, I.                                                                                                                                                                                                                                                                                                                                                                                                                                                                                                                                                                                                                                                                                                                                                                                                                                                                                1\n",
      "MANAGED WEB HOSTING.                                                                                                                                                                                                                                                                                                                                                                                                                                                                                                                                                                                                                                                                                                                                                                                                                                                                                                                                                                                                                                                                                                                   1\n",
      "CYD SUPPORT SERVICES IAW THE TERMS AND CONDITIONS OF THE CONTRACT                                                                                                                                                                                                                                                                                                                                                                                                                                                                                                                                                                                                                                                                                                                                                                                                                                                                                                                                                                                                                                                                      1\n",
      "DOJ TELEWORK PROGRAM EVALUATION SERVICES                                                                                                                                                                                                                                                                                                                                                                                                                                                                                                                                                                                                                                                                                                                                                                                                                                                                                                                                                                                                                                                                                               1\n",
      "Name: count, Length: 3688, dtype: int64\n"
     ]
    }
   ],
   "source": [
    "# create df with only the descriptions with 1 count\n",
    "df_description_1 = df_description[df_description == 1]\n",
    "# filter df with only the descriptions with 1 count\n",
    "df_filtered = df[df['DESCRIPTION'].isin(df_description_1.index)]"
   ]
  }
 ],
 "metadata": {
  "kernelspec": {
   "display_name": ".venv",
   "language": "python",
   "name": "python3"
  },
  "language_info": {
   "codemirror_mode": {
    "name": "ipython",
    "version": 3
   },
   "file_extension": ".py",
   "mimetype": "text/x-python",
   "name": "python",
   "nbconvert_exporter": "python",
   "pygments_lexer": "ipython3",
   "version": "3.12.3"
  }
 },
 "nbformat": 4,
 "nbformat_minor": 2
}
